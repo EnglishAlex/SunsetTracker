{
 "cells": [
  {
   "cell_type": "markdown",
   "metadata": {},
   "source": [
    "# Render the time \n",
    "(c) Alex Oulton December 2020\n",
    "* demo code to render the time big n bold on to the inky phat.\n"
   ]
  },
  {
   "cell_type": "code",
   "execution_count": 1,
   "metadata": {},
   "outputs": [],
   "source": [
    "from datetime import datetime, time, timedelta"
   ]
  },
  {
   "cell_type": "code",
   "execution_count": 2,
   "metadata": {},
   "outputs": [],
   "source": [
    "class InkyPHAT:\n",
    "    def __init__(self,colour):\n",
    "        self.WIDTH = 240\n",
    "        self.HEIGHT = 120\n",
    "        self.WHITE =  (255,255,255) # 0\n",
    "        self.BLACK =  (0,0,0) # 1\n",
    "        self.RED =  2        \n",
    "        \n",
    "    def set_border(self,colour):\n",
    "        pass\n",
    "\n",
    "    "
   ]
  },
  {
   "cell_type": "code",
   "execution_count": 8,
   "metadata": {},
   "outputs": [],
   "source": [
    "def renderscreen():\n",
    "    \n",
    "    # ================= set up screen =======================\n",
    "    # from inky import InkyPHAT\n",
    "    inky_display = InkyPHAT(\"black\")\n",
    "    # for faster B&W set black, the tri colour refresh cycle takes longer\n",
    "    inky_display.set_border(inky_display.WHITE)\n",
    "\n",
    "    from PIL import Image, ImageFont, ImageDraw\n",
    "\n",
    "    # img = Image.new(\"P\", (inky_display.WIDTH, inky_display.HEIGHT))\n",
    "    img = Image.new(\"RGB\", (inky_display.WIDTH, inky_display.HEIGHT))\n",
    "\n",
    "    draw = ImageDraw.Draw(img)\n",
    "\n",
    "    # blank white screen to start\n",
    "    draw.rectangle([(0,0),(inky_display.WIDTH, inky_display.HEIGHT)],fill=inky_display.WHITE)\n",
    "\n",
    "    midWidth = inky_display.WIDTH / 2  # teeny bit to the right of centre\n",
    "    midHeight = inky_display.HEIGHT / 2 + 10 # and teeny bit lower looks better\n",
    "\n",
    "    \n",
    "    \n",
    "    # ================= print up fields =======================\n",
    "    ImageFont.truetype(\"/Library/Fonts/Arial Unicode.ttf\",14)\n",
    "\n",
    "    fontLabel = ImageFont.truetype(\"/Library/Fonts/Arial Unicode.ttf\",16)\n",
    "    fontNumber = ImageFont.truetype(\"/Library/Fonts/Arial Unicode.ttf\",18)\n",
    "    fontBig = ImageFont.truetype(\"/Library/Fonts/Arial Unicode.ttf\",26)\n",
    "    fontKanji = ImageFont.truetype(\"migu-1m-regular.ttf\",16)\n",
    "\n",
    "    msg1 = \"Sun Rise:\"\n",
    "    msg2 = \"88:88\"\n",
    "\n",
    "    msg3 = \"日本語\"\n",
    "    msg4 = \"88:88\"\n",
    "\n",
    "    msg5 = \"Sun Set:\"\n",
    "    msg6 =  \"88:88\"\n",
    "\n",
    "    msg7 = \"Day: \" + datetime.strftime(datetime.now(),'%j')\n",
    "    msg8 = \"Week: \" + datetime.strftime(datetime.now(),'%U')\n",
    "    msg9 = datetime.strftime(datetime.now(),'%I:%M %p')\n",
    "    msgA = 'msgA'\n",
    "    msgB = 'msgB'\n",
    "    \n",
    "    # get text box size for each of our fields\n",
    "    w1, h1 = fontLabel.getbbox(msg1)\n",
    "    w2, h2 = fontNumber.getsize(msg2)\n",
    "    w3, h3 = fontKanji.getsize(msg3)\n",
    "    w4, h4 = fontNumber.getsize(msg4)\n",
    "    w5, h5 = fontLabel.getsize(msg5)\n",
    "    w6, h6 = fontNumber.getsize(msg6)\n",
    "    w7, h7 = fontNumber.getsize(msg7)\n",
    "    w8, h8 = fontNumber.getsize(msg8)\n",
    "    w9, h9 = fontBig.getsize(msg9)\n",
    "    wA, hA = fontNumber.getsize(msgA)\n",
    "    wB, hB = fontNumber.getsize(msgB)\n",
    "\n",
    "    #calculate screen locations for our msgX fields\n",
    "    loc1 = (0,0)                             # top left\n",
    "    loc2 = (0,h1+1)                          # under top left\n",
    "    loc3 = (0,inky_display.HEIGHT - h3 - h4) # above botton left\n",
    "    loc4 = (0,inky_display.HEIGHT - h3)      # botton left\n",
    "\n",
    "    loc5 = (inky_display.WIDTH - w5, 0)      # top right\n",
    "    loc6 = (inky_display.WIDTH - w6, h5)     # under top right / h5\n",
    "    loc7 = (midWidth - w7/2, midHeight )     # centered hanging from mid point\n",
    "    loc8 = (midWidth - w8/2, midHeight + h7 )            # centered below msg7\n",
    "\n",
    "    loc9 = (midWidth - w9/2, midHeight - h9)  # centred above midpoint \n",
    "\n",
    "    locA= (inky_display.WIDTH - wA, inky_display.HEIGHT - hA ) # bottom right\n",
    "    locB= (inky_display.WIDTH - wB, inky_display.HEIGHT - hB - hA) # stacked above bottom right\n",
    "\n",
    "    draw.text(loc1, msg1, inky_display.BLACK, fontLabel)\n",
    "    draw.text(loc2, msg2, inky_display.BLACK, fontNumber)\n",
    "    \n",
    "    draw.text(loc3, msg3, inky_display.BLACK, fontKanji)\n",
    "    \n",
    "    draw.text(loc4, msg4, inky_display.BLACK, fontNumber)\n",
    "    draw.text(loc5, msg5, inky_display.BLACK, fontLabel)\n",
    "    draw.text(loc6, msg6, inky_display.BLACK, fontNumber)\n",
    "    draw.text(loc7, msg7, inky_display.BLACK, fontNumber)\n",
    "    draw.text(loc8, msg8, inky_display.BLACK, fontNumber)\n",
    "    draw.text(loc9, msg9, inky_display.BLACK, fontBig)\n",
    "    draw.text(locA, msgA, inky_display.BLACK, fontNumber)\n",
    "    draw.text(locB, msgB, inky_display.BLACK, fontNumber)\n",
    "\n",
    "    #print the graph inline - instead of to inky phat\n",
    "    %matplotlib inline\n",
    "\n",
    "    display(img)"
   ]
  },
  {
   "cell_type": "code",
   "execution_count": 9,
   "metadata": {},
   "outputs": [
    {
     "ename": "ValueError",
     "evalue": "too many values to unpack (expected 2)",
     "output_type": "error",
     "traceback": [
      "\u001b[0;31m---------------------------------------------------------------------------\u001b[0m",
      "\u001b[0;31mValueError\u001b[0m                                Traceback (most recent call last)",
      "Cell \u001b[0;32mIn[9], line 1\u001b[0m\n\u001b[0;32m----> 1\u001b[0m renderscreen()\n",
      "Cell \u001b[0;32mIn[8], line 48\u001b[0m, in \u001b[0;36mrenderscreen\u001b[0;34m()\u001b[0m\n\u001b[1;32m     45\u001b[0m msgB \u001b[38;5;241m=\u001b[39m \u001b[38;5;124m'\u001b[39m\u001b[38;5;124mmsgB\u001b[39m\u001b[38;5;124m'\u001b[39m\n\u001b[1;32m     47\u001b[0m \u001b[38;5;66;03m# get text box size for each of our fields\u001b[39;00m\n\u001b[0;32m---> 48\u001b[0m w1, h1 \u001b[38;5;241m=\u001b[39m fontLabel\u001b[38;5;241m.\u001b[39mgetbbox(msg1)\n\u001b[1;32m     49\u001b[0m w2, h2 \u001b[38;5;241m=\u001b[39m fontNumber\u001b[38;5;241m.\u001b[39mgetsize(msg2)\n\u001b[1;32m     50\u001b[0m w3, h3 \u001b[38;5;241m=\u001b[39m fontKanji\u001b[38;5;241m.\u001b[39mgetsize(msg3)\n",
      "\u001b[0;31mValueError\u001b[0m: too many values to unpack (expected 2)"
     ]
    }
   ],
   "source": [
    "renderscreen()\n"
   ]
  },
  {
   "cell_type": "code",
   "execution_count": 15,
   "metadata": {},
   "outputs": [
    {
     "data": {
      "text/plain": [
       "datetime.datetime(2020, 5, 10, 9, 19, 40, 479063)"
      ]
     },
     "execution_count": 15,
     "metadata": {},
     "output_type": "execute_result"
    }
   ],
   "source": [
    "dt.datetime.now()"
   ]
  },
  {
   "cell_type": "code",
   "execution_count": 30,
   "metadata": {},
   "outputs": [],
   "source": [
    "timeNow = datetime.strftime(datetime.now(),'%I:%M %p %U %j %W %w')"
   ]
  },
  {
   "cell_type": "code",
   "execution_count": 31,
   "metadata": {},
   "outputs": [
    {
     "data": {
      "text/plain": [
       "'03:07 PM 17 123 17 6'"
      ]
     },
     "execution_count": 31,
     "metadata": {},
     "output_type": "execute_result"
    }
   ],
   "source": [
    "timeNow"
   ]
  },
  {
   "cell_type": "code",
   "execution_count": null,
   "metadata": {},
   "outputs": [],
   "source": []
  }
 ],
 "metadata": {
  "kernelspec": {
   "display_name": "Python 3 (ipykernel)",
   "language": "python",
   "name": "python3"
  },
  "language_info": {
   "codemirror_mode": {
    "name": "ipython",
    "version": 3
   },
   "file_extension": ".py",
   "mimetype": "text/x-python",
   "name": "python",
   "nbconvert_exporter": "python",
   "pygments_lexer": "ipython3",
   "version": "3.11.4"
  }
 },
 "nbformat": 4,
 "nbformat_minor": 2
}
