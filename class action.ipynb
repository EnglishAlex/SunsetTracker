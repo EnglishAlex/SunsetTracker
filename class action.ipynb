{
 "cells": [
  {
   "cell_type": "code",
   "execution_count": 1,
   "metadata": {},
   "outputs": [],
   "source": [
    "from datetime import datetime, time, timedelta\n",
    "# test out classes\n",
    "class DayTest:\n",
    "    def __init__(self,sunrise,sunset):\n",
    "        self.sunrise = datetime.strptime(sunrise,'%H:%M')\n",
    "        self.sunset = datetime.strptime(sunset,'%H:%M')\n",
    "        self.length = self.sunset - self.sunrise\n",
    "    def daylength(self):\n",
    "        '''length of day in printable string'''\n",
    "        h,m = divmod((daytest.length.seconds/60),60)\n",
    "        return '{:d}h{:d}m'.format(int(h),int(m))\n",
    "    \n",
    "    def timetosunset(self):\n",
    "        '''printable string of hours and minutes to sunset'''    \n",
    "        now = datetime.strftime(datetime.now(),'%H:%M')\n",
    "        now = datetime.strptime(now,'%H:%M')\n",
    "        ttss = self.sunset - now\n",
    "        h,m = divmod((ttss.seconds/60),60)\n",
    "        return '{:d}h{:d}m'.format(int(h),int(m))\n",
    "    \n",
    "    def sunelevation(self):\n",
    "        '''reports sun elevation'''    \n",
    "#         zero at sunrise prorated to solar noon \n",
    "        now = datetime.strftime(datetime.now(),'%H:%M')\n",
    "        now = datetime.strptime(now,'%H:%M')\n",
    "\n",
    "    def sunebearing(self):\n",
    "        '''reports sun's bearing'''    \n",
    "#       difference of two bearings pro-rated \n",
    "        now = datetime.strftime(datetime.now(),'%H:%M')\n",
    "        now = datetime.strptime(now,'%H:%M')\n",
    "\n",
    "    "
   ]
  },
  {
   "cell_type": "code",
   "execution_count": 2,
   "metadata": {},
   "outputs": [],
   "source": [
    "daytest = DayTest('08:15','17:20')"
   ]
  },
  {
   "cell_type": "code",
   "execution_count": 3,
   "metadata": {},
   "outputs": [
    {
     "data": {
      "text/plain": [
       "'20h5m'"
      ]
     },
     "execution_count": 3,
     "metadata": {},
     "output_type": "execute_result"
    }
   ],
   "source": [
    "daytest.timetosunset()"
   ]
  },
  {
   "cell_type": "code",
   "execution_count": 4,
   "metadata": {},
   "outputs": [
    {
     "data": {
      "text/plain": [
       "'9h5m'"
      ]
     },
     "execution_count": 4,
     "metadata": {},
     "output_type": "execute_result"
    }
   ],
   "source": [
    "daytest.daylength()"
   ]
  },
  {
   "cell_type": "code",
   "execution_count": 5,
   "metadata": {},
   "outputs": [
    {
     "name": "stdout",
     "output_type": "stream",
     "text": [
      "Help on class DayTest in module __main__:\n",
      "\n",
      "class DayTest(builtins.object)\n",
      " |  DayTest(sunrise, sunset)\n",
      " |  \n",
      " |  Methods defined here:\n",
      " |  \n",
      " |  __init__(self, sunrise, sunset)\n",
      " |      Initialize self.  See help(type(self)) for accurate signature.\n",
      " |  \n",
      " |  daylength(self)\n",
      " |      length of day in printable string\n",
      " |  \n",
      " |  sunebearing(self)\n",
      " |      reports sun's bearing\n",
      " |  \n",
      " |  sunelevation(self)\n",
      " |      reports sun elevation\n",
      " |  \n",
      " |  timetosunset(self)\n",
      " |      printable string of hours and minutes to sunset\n",
      " |  \n",
      " |  ----------------------------------------------------------------------\n",
      " |  Data descriptors defined here:\n",
      " |  \n",
      " |  __dict__\n",
      " |      dictionary for instance variables (if defined)\n",
      " |  \n",
      " |  __weakref__\n",
      " |      list of weak references to the object (if defined)\n",
      "\n"
     ]
    }
   ],
   "source": [
    "help(DayTest)"
   ]
  },
  {
   "cell_type": "code",
   "execution_count": null,
   "metadata": {},
   "outputs": [],
   "source": [
    "coord = (3, 5)\n",
    "'X: {0[0]};  Y: {0[1]}'.format(coord)\n"
   ]
  },
  {
   "cell_type": "code",
   "execution_count": null,
   "metadata": {},
   "outputs": [],
   "source": [
    "h,m = divmod(daytest.length.seconds/60,60)\n",
    "\n",
    "#print(f'{0:d}h{0:d}m'.format(h,m))\n"
   ]
  }
 ],
 "metadata": {
  "kernelspec": {
   "display_name": "Python 3",
   "language": "python",
   "name": "python3"
  },
  "language_info": {
   "codemirror_mode": {
    "name": "ipython",
    "version": 3
   },
   "file_extension": ".py",
   "mimetype": "text/x-python",
   "name": "python",
   "nbconvert_exporter": "python",
   "pygments_lexer": "ipython3",
   "version": "3.7.4"
  }
 },
 "nbformat": 4,
 "nbformat_minor": 2
}
