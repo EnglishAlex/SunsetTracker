{
 "cells": [
  {
   "cell_type": "markdown",
   "metadata": {},
   "source": [
    "# Sunset Day Tracker\n",
    "(c) Alex Oulton December 2019\n",
    "* A simple display to graphically show time remaining to sunset\n",
    "### to be done....\n",
    "[Dec 31 2019]\n",
    "* pie chart to show time to next event\n",
    "* * peek after sunset shows time to next sunrise\n",
    "* * peek after sunrise shows time to next sunset\n",
    "* to show 'next event' be it rising or setting need to load today's data plus tomorrow sunrise time\n",
    "* optional 'now' property on class DayLight for ease of testing \n"
   ]
  },
  {
   "cell_type": "code",
   "execution_count": 1,
   "metadata": {},
   "outputs": [],
   "source": [
    "from datetime import datetime, time, timedelta\n",
    "\n",
    "class DayLight:\n",
    "    '''\n",
    "    everything to do with today sunrise and sunset\n",
    "    - call methods to calculate their value as of 'now'\n",
    "    - properties are static as read from CSV file\n",
    "    '''\n",
    "    def __init__(self):\n",
    "        pass\n",
    "    def daylength(self):\n",
    "        '''printable string the day's length in hours and minutes '''    \n",
    "        daylen = self.sunset - self.sunrise\n",
    "        h,m = divmod((daylen.seconds/60),60) # get minutes and hours in a tuple\n",
    "        return '{:d}h{:d}m'.format(int(h),int(m)) # format hours and mins nicely.\n",
    "    \n",
    "    def timetosunset(self):\n",
    "        '''printable string of hours and minutes to sunset'''    \n",
    "        ttss = self.sunset - self.now\n",
    "        \n",
    "        # Q? should this be time to next sunrise or sunset ( or even Solar Noon?)\n",
    "\n",
    "        #if now is after sunset then days is negative\n",
    "        if ttss.days < 0: \n",
    "            return '0h 0m'\n",
    "\n",
    "        h,m = divmod((ttss.seconds/60),60) # get minutes and hours in a tuple\n",
    "\n",
    "        return '{:d}h{:d}m'.format(int(h),int(m)) # format hours and mins nicely.\n",
    "#       if we use timedelta it reports seconds which we need to format \n",
    "#       into hours and mins so stick eith divmod appoach for now\n",
    "\n",
    "    \n",
    "    def sunelevation(self):\n",
    "        '''reports sun elevation'''    \n",
    "        #on mac - shift option 8 for ° degree symbol \n",
    "        \n",
    "        # from rise to solar noon  - report degrees up after solar noon degrees to zero.\n",
    "        # convert solar noon to datetime\n",
    "        \n",
    "        ## ??? is solar mid-day always in the middle of the day?\n",
    "        ## are there more seconds in the AM than the PM.. for each day?\n",
    "        \n",
    "        e = \"{:.1f}\".format(self.noon_elevation)  + '°'\n",
    "        \n",
    "        return(e)\n",
    "\n",
    "    def sunbearing(self):\n",
    "        '''reports sun's bearing'''  \n",
    "        # at solar_noon bearing is always 180° \n",
    "        # solar noon is at 1pm-ish during BST\n",
    "        \n",
    "        bearing = (self.sunset_bearing - self.sunrise_bearing) * self.progress() \n",
    "        \n",
    "        b = \"{:.1f}\".format(bearing)  + '°'\n",
    "        return(b)\n",
    "    \n",
    "    def progress(self):\n",
    "        '''ratio of now vs sunset'''    \n",
    "\n",
    "        #report zero if outside daylight hours\n",
    "        if self.now < self.sunrise:\n",
    "            return 0.0\n",
    "        if self.now > self.sunset:\n",
    "            return 0.0\n",
    "\n",
    "        t1 = self.sunset - self.sunrise\n",
    "        t2 = self.now - self.sunrise\n",
    "        ratio = int( t2.seconds) / int(t1.seconds )\n",
    "        return (ratio)\n"
   ]
  },
  {
   "cell_type": "code",
   "execution_count": 2,
   "metadata": {},
   "outputs": [],
   "source": [
    "class InkyPHAT:\n",
    "    def __init__(self,colour):\n",
    "        self.WIDTH = 240\n",
    "        self.HEIGHT = 120\n",
    "        self.WHITE =  (255,255,255) # 0\n",
    "        self.BLACK =  (0,0,0) # 1\n",
    "        self.RED =  2        \n",
    "        \n",
    "    def set_border(self,colour):\n",
    "        pass\n"
   ]
  },
  {
   "cell_type": "code",
   "execution_count": 3,
   "metadata": {},
   "outputs": [],
   "source": [
    "def renderscreen(daylight):\n",
    "    \n",
    "    # ================= set up screen =======================\n",
    "    # from inky import InkyPHAT\n",
    "    inky_display = InkyPHAT(\"black\")\n",
    "    # for faster B&W set black, the tri colour refresh cycle takes longer\n",
    "    inky_display.set_border(inky_display.WHITE)\n",
    "\n",
    "    from PIL import Image, ImageFont, ImageDraw\n",
    "\n",
    "    # img = Image.new(\"P\", (inky_display.WIDTH, inky_display.HEIGHT))\n",
    "    img = Image.new(\"RGB\", (inky_display.WIDTH, inky_display.HEIGHT))\n",
    "\n",
    "    draw = ImageDraw.Draw(img)\n",
    "\n",
    "    # blank white screen to start\n",
    "    draw.rectangle([(0,0),(inky_display.WIDTH, inky_display.HEIGHT)],fill=inky_display.WHITE)\n",
    "\n",
    "    # ================= draw progress bar/circle =======================\n",
    "    midWidth = inky_display.WIDTH / 2 + 10 # teeny bit to the right of centre\n",
    "    midHeight = inky_display.HEIGHT / 2 + 10 # and teeny bit lower looks better\n",
    "\n",
    "    radius1 = 43\n",
    "    radius2 = 53\n",
    "    \n",
    "    # pie chart: zero degrees starting at clockwise 3pm \n",
    "    startAngle = 135  # about 8 o'clock\n",
    "    endAngle = 45     # about 4 o'clock\n",
    "    # 270 deg between 8 o'clock and 4 o'clock\n",
    "    nowAngle = (daylight.progress() * 270 + startAngle ) % 360\n",
    "\n",
    "    # .progress reports value between 0.0 and 1.0\n",
    "    # nowAngle sweeps a prorated arc from startAngle all the way to endAngle\n",
    "    # modulo 360 handles the transition at 0 degrees / mid day from 359° to 0°\n",
    "\n",
    "    # ----------------------------- draw progress bar/circle -------------------------\n",
    "\n",
    "    Circle1 = (midWidth-radius1, midHeight-radius1, midWidth+radius1, midHeight+radius1)\n",
    "    Circle2 = (midWidth-radius2, midHeight-radius2, midWidth+radius2, midHeight+radius2)\n",
    "\n",
    "    draw.arc( Circle2 , startAngle, endAngle, fill = inky_display.BLACK)\n",
    "    draw.arc( Circle1 , startAngle, endAngle, fill = inky_display.BLACK)\n",
    "\n",
    "    draw.point([midWidth,midHeight])\n",
    "\n",
    "#     draw.pieslice( Circle2 ,startAngle, nowAngle, fill = inky_display.BLACK)\n",
    "#     #draw pie segment to show progress thru day\n",
    "\n",
    "    draw.pieslice( Circle2 ,nowAngle,nowAngle + 30, fill = inky_display.BLACK)\n",
    "    #draw short arc \n",
    "\n",
    "    draw.ellipse( Circle1, fill = inky_display.WHITE, outline =  inky_display.WHITE)\n",
    "    \n",
    "    draw.arc( Circle2 , startAngle, endAngle, fill = inky_display.BLACK)\n",
    "    draw.arc( Circle1 , startAngle, endAngle, fill = inky_display.BLACK)\n",
    "\n",
    "    \n",
    "    # ================= print up fields =======================\n",
    "    ImageFont.truetype(\"/Library/Fonts/Arial Unicode.ttf\",14)\n",
    "\n",
    "    fontLabel = ImageFont.truetype(\"/Library/Fonts/Arial Unicode.ttf\",16)\n",
    "    fontNumber = ImageFont.truetype(\"/Library/Fonts/Arial Unicode.ttf\",18)\n",
    "    fontBig = ImageFont.truetype(\"/Library/Fonts/Arial Unicode.ttf\",20)\n",
    "\n",
    "    msg1 = \"Sun Rise:\"\n",
    "    msg2 = datetime.strftime(daylight.sunrise,'%H:%M')\n",
    "\n",
    "    msg3 = \"Today:\"\n",
    "    msg4 = daylight.daylength()\n",
    "\n",
    "    msg5 = \"Sun Set:\"\n",
    "    msg6 =  datetime.strftime(daylight.sunset,'%H:%M')\n",
    "\n",
    "    msg7 = daylight.sunbearing()  \n",
    "    msg8 = daylight.sunelevation()\n",
    "    msg9 = daylight.timetosunset()\n",
    "    msgA = datetime.strftime(daylight.now,'%H:%M') # get time now as a string\n",
    "    msgB = datetime.strftime(daylight.now,'%b %d') # get time now as a string\n",
    "    \n",
    "    # get text box size for each of our fields\n",
    "    w1, h1 = fontLabel.getsize(msg1)\n",
    "    w2, h2 = fontNumber.getsize(msg2)\n",
    "    w3, h3 = fontLabel.getsize(msg3)\n",
    "    w4, h4 = fontNumber.getsize(msg4)\n",
    "    w5, h5 = fontLabel.getsize(msg5)\n",
    "    w6, h6 = fontNumber.getsize(msg6)\n",
    "    w7, h7 = fontNumber.getsize(msg7)\n",
    "    w8, h8 = fontNumber.getsize(msg8)\n",
    "    w9, h9 = fontBig.getsize(msg9)\n",
    "    wA, hA = fontNumber.getsize(msgA)\n",
    "    wB, hB = fontNumber.getsize(msgB)\n",
    "\n",
    "    #calculate screen locations for our msgX fields\n",
    "    loc1 = (0,0)                             # top left\n",
    "    loc2 = (0,h1+1)                          # under top left\n",
    "    loc3 = (0,inky_display.HEIGHT - h3 - h4) # above botton left\n",
    "    loc4 = (0,inky_display.HEIGHT - h3)      # botton left\n",
    "\n",
    "    loc5 = (inky_display.WIDTH - w5, 0)      # top right\n",
    "    loc6 = (inky_display.WIDTH - w6, h5)     # under top right / h5\n",
    "    loc7 = (midWidth - w7/2, midHeight )     # centered hanging from mid point\n",
    "    loc8 = (midWidth - w8/2, midHeight + h7 )            # centered below msg7\n",
    "\n",
    "    loc9 = (midWidth - w9/2, midHeight - h9)  # centred above midpoint \n",
    "\n",
    "    locA= (inky_display.WIDTH - wA, inky_display.HEIGHT - hA ) # bottom right\n",
    "    locB= (inky_display.WIDTH - wB, inky_display.HEIGHT - hB - hA) # stacked above bottom right\n",
    "\n",
    "    draw.text(loc1, msg1, inky_display.BLACK, fontLabel)\n",
    "    draw.text(loc2, msg2, inky_display.BLACK, fontNumber)\n",
    "    draw.text(loc3, msg3, inky_display.BLACK, fontLabel)\n",
    "    draw.text(loc4, msg4, inky_display.BLACK, fontNumber)\n",
    "    draw.text(loc5, msg5, inky_display.BLACK, fontLabel)\n",
    "    draw.text(loc6, msg6, inky_display.BLACK, fontNumber)\n",
    "    draw.text(loc7, msg7, inky_display.BLACK, fontNumber)\n",
    "    draw.text(loc8, msg8, inky_display.BLACK, fontNumber)\n",
    "    draw.text(loc9, msg9, inky_display.BLACK, fontBig)\n",
    "    draw.text(locA, msgA, inky_display.BLACK, fontNumber)\n",
    "    draw.text(locB, msgB, inky_display.BLACK, fontNumber)\n",
    "\n",
    "    #print the graph inline - instead of to inky phat\n",
    "    %matplotlib inline\n",
    "\n",
    "    display(img)"
   ]
  },
  {
   "cell_type": "code",
   "execution_count": 4,
   "metadata": {},
   "outputs": [],
   "source": [
    "def loadToday(today):\n",
    "    \"\"\" read sunrise times and return an instance of DayLight\"\"\"\n",
    "    import csv\n",
    "    from datetime import datetime, time\n",
    "\n",
    "    data_file = \"sunrise2020.csv\"\n",
    "    file = open(data_file, newline='')\n",
    "    reader = csv.reader(file)\n",
    "    header = next(reader) # first line of file\n",
    "    \n",
    "    daylight = DayLight()\n",
    "    \n",
    "    daylight.load = False\n",
    "    \n",
    "    for row in reader:\n",
    "\n",
    "        date = datetime.strptime(row[0],'%d/%m/%Y')\n",
    "        if date == today:\n",
    "            daylight.sunrise = datetime.strptime( row[0] +' '+ row[1],'%d/%m/%Y %H:%M')\n",
    "            daylight.sunrise_bearing = float(row[2])\n",
    "            daylight.sunset = datetime.strptime( row[0] +' '+ row[3],'%d/%m/%Y %H:%M')\n",
    "            daylight.sunset_bearing = float(row[4])\n",
    "#   ignore         daylight.day_length = datetime.strptime(row[5],'%H:%M:%S')\n",
    "            daylight.solar_noon = row[6]\n",
    "            daylight.noon_elevation = float(row[7])\n",
    "            daylight.load = True\n",
    "            break\n",
    "        else:\n",
    "            pass\n",
    "\n",
    "    return(daylight)"
   ]
  },
  {
   "cell_type": "code",
   "execution_count": 10,
   "metadata": {},
   "outputs": [
    {
     "data": {
      "image/png": "[encoded data removed]",
      "text/plain": [
       "<PIL.Image.Image image mode=RGB size=240x120 at 0x10752C150>"
      ]
     },
     "metadata": {},
     "output_type": "display_data"
    }
   ],
   "source": [
    "\n",
    "#Load today's time from data file. \n",
    "today = datetime.strftime(datetime.now(),'%d/%m/%Y')\n",
    "today = datetime.strptime(today,'%d/%m/%Y')\n",
    "today\n",
    "\n",
    "\n",
    "# afterSunset = datetime.strptime('28/12/2019 16:05','%d/%m/%Y %H:%M')\n",
    "beforeSunRise =  datetime.strptime('31/12/2019 17:00','%d/%m/%Y %H:%M')\n",
    "\n",
    "daylight = loadToday(today)\n",
    "daylight.now = datetime.now()\n",
    "\n",
    "renderscreen(daylight)"
   ]
  },
  {
   "cell_type": "code",
   "execution_count": 6,
   "metadata": {},
   "outputs": [
    {
     "name": "stdout",
     "output_type": "stream",
     "text": [
      "2020-03-28 05:44:00\n",
      "2020-03-28 18:27:00\n",
      "0.7753791232197467\n",
      "45780\n",
      "35496\n",
      "84.0\n",
      "276.0\n",
      "12:05\n",
      "41.8\n"
     ]
    }
   ],
   "source": [
    "print(daylight.sunrise)\n",
    "print(daylight.sunset)\n",
    "\n",
    "tdiff1 = daylight.sunset - daylight.sunrise\n",
    "tdiff2 = daylight.now - daylight.sunrise\n",
    "print(tdiff2/tdiff1)\n",
    "print(tdiff1.seconds)\n",
    "print(tdiff2.seconds)\n",
    "\n",
    "print(daylight.sunrise_bearing)\n",
    "print(daylight.sunset_bearing)\n",
    "\n",
    "print(daylight.solar_noon)\n",
    "print(daylight.noon_elevation)\n",
    "\n"
   ]
  },
  {
   "cell_type": "code",
   "execution_count": 7,
   "metadata": {},
   "outputs": [
    {
     "name": "stdout",
     "output_type": "stream",
     "text": [
      "12h43m\n",
      "2h51m\n",
      "41.8°\n",
      "148.9°\n",
      "0.7753604193971166\n"
     ]
    }
   ],
   "source": [
    "print(daylight.daylength() )\n",
    "print(daylight.timetosunset() )\n",
    "print(daylight.sunelevation() )\n",
    "print(daylight.sunbearing() )\n",
    "print(daylight.progress() )"
   ]
  },
  {
   "cell_type": "code",
   "execution_count": 8,
   "metadata": {},
   "outputs": [
    {
     "data": {
      "text/plain": [
       "datetime.datetime(2020, 3, 28, 15, 35, 36, 856261)"
      ]
     },
     "execution_count": 8,
     "metadata": {},
     "output_type": "execute_result"
    }
   ],
   "source": [
    "daylight.now\n",
    "# fourPM = datetime.strptime('28/12/2019 16:00','%d/%m/%Y %H:%M')\n",
    "# fivePM = datetime.strptime('28/12/2019 17:00','%d/%m/%Y %H:%M')\n",
    "\n",
    "# xx = fourPM - fivePM\n",
    "# yy = fivePM - fourPM"
   ]
  },
  {
   "cell_type": "code",
   "execution_count": 9,
   "metadata": {},
   "outputs": [
    {
     "ename": "NameError",
     "evalue": "name 'xx' is not defined",
     "output_type": "error",
     "traceback": [
      "\u001b[0;31m---------------------------------------------------------------------------\u001b[0m",
      "\u001b[0;31mNameError\u001b[0m                                 Traceback (most recent call last)",
      "\u001b[0;32m<ipython-input-9-ba5ce8288f21>\u001b[0m in \u001b[0;36m<module>\u001b[0;34m\u001b[0m\n\u001b[0;32m----> 1\u001b[0;31m \u001b[0mprint\u001b[0m\u001b[0;34m(\u001b[0m\u001b[0mxx\u001b[0m\u001b[0;34m.\u001b[0m\u001b[0mdays\u001b[0m\u001b[0;34m)\u001b[0m\u001b[0;34m\u001b[0m\u001b[0;34m\u001b[0m\u001b[0m\n\u001b[0m\u001b[1;32m      2\u001b[0m \u001b[0;34m\u001b[0m\u001b[0m\n\u001b[1;32m      3\u001b[0m \u001b[0mprint\u001b[0m\u001b[0;34m(\u001b[0m\u001b[0myy\u001b[0m\u001b[0;34m.\u001b[0m\u001b[0mdays\u001b[0m\u001b[0;34m)\u001b[0m\u001b[0;34m\u001b[0m\u001b[0;34m\u001b[0m\u001b[0m\n\u001b[1;32m      4\u001b[0m \u001b[0mprint\u001b[0m\u001b[0;34m(\u001b[0m\u001b[0myy\u001b[0m\u001b[0;34m.\u001b[0m\u001b[0mseconds\u001b[0m\u001b[0;34m)\u001b[0m\u001b[0;34m\u001b[0m\u001b[0;34m\u001b[0m\u001b[0m\n",
      "\u001b[0;31mNameError\u001b[0m: name 'xx' is not defined"
     ]
    }
   ],
   "source": [
    "print(xx.days)\n",
    "\n",
    "print(yy.days)\n",
    "print(yy.seconds)"
   ]
  },
  {
   "cell_type": "code",
   "execution_count": null,
   "metadata": {},
   "outputs": [],
   "source": [
    "%j: Returns the number of the day in the year, from 001 to 366.\n",
    "%W: Returns the week number of the year, from 00 to 53, with Monday being counted as the first day of the week."
   ]
  },
  {
   "cell_type": "code",
   "execution_count": null,
   "metadata": {},
   "outputs": [],
   "source": [
    "# print(\"{:.2f}\".format(3.1415926));\n",
    "\n",
    "bearing = (100.0 -50.0) * 0.75\n",
    "print (bearing)\n",
    "        \n",
    "\n",
    "b = \"{:.1f}\".format(bearing)  + '°'\n",
    "\n",
    "print(b)\n"
   ]
  },
  {
   "cell_type": "code",
   "execution_count": 6,
   "metadata": {},
   "outputs": [
    {
     "data": {
      "text/plain": [
       "float"
      ]
     },
     "execution_count": 6,
     "metadata": {},
     "output_type": "execute_result"
    }
   ],
   "source": [
    "type(daylight.sunelevation())"
   ]
  },
  {
   "cell_type": "code",
   "execution_count": null,
   "metadata": {},
   "outputs": [],
   "source": []
  }
 ],
 "metadata": {
  "kernelspec": {
   "display_name": "Python 3",
   "language": "python",
   "name": "python3"
  },
  "language_info": {
   "codemirror_mode": {
    "name": "ipython",
    "version": 3
   },
   "file_extension": ".py",
   "mimetype": "text/x-python",
   "name": "python",
   "nbconvert_exporter": "python",
   "pygments_lexer": "ipython3",
   "version": "3.7.4"
  }
 },
 "nbformat": 4,
 "nbformat_minor": 2
}
