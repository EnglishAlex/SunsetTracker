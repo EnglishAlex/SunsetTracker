{
 "cells": [
  {
   "cell_type": "markdown",
   "metadata": {},
   "source": [
    "# Display fun stuff on the inkyPhat\n",
    "(c) Alex Oulton December 2020\n",
    "* A simple display to graphically show time remaining to sunset\n",
    "### to be done....\n",
    "* Day of year with full date and week of year\n",
    "* random kanji from selection\n",
    "* random word from dictionary"
   ]
  },
  {
   "cell_type": "code",
   "execution_count": 1,
   "metadata": {},
   "outputs": [],
   "source": [
    "class InkyPHAT:\n",
    "    def __init__(self,colour):\n",
    "        self.WIDTH = 240\n",
    "        self.HEIGHT = 120\n",
    "        self.WHITE =  (255,255,255) # 0\n",
    "        self.BLACK =  (0,0,0) # 1\n",
    "        self.RED =  2        \n",
    "        \n",
    "    def set_border(self,colour):\n",
    "        pass\n",
    "\n"
   ]
  },
  {
   "cell_type": "code",
   "execution_count": 2,
   "metadata": {},
   "outputs": [],
   "source": [
    "# ================= set up screen =======================\n",
    "# from inky import InkyPHAT\n",
    "inky_display = InkyPHAT(\"black\")\n",
    "# for faster B&W set black, the tri colour refresh cycle takes longer\n",
    "inky_display.set_border(inky_display.WHITE)\n",
    "\n",
    "from PIL import Image, ImageFont, ImageDraw\n",
    "\n",
    "# img = Image.new(\"P\", (inky_display.WIDTH, inky_display.HEIGHT))\n",
    "img = Image.new(\"RGB\", (inky_display.WIDTH, inky_display.HEIGHT))\n",
    "\n",
    "draw = ImageDraw.Draw(img)"
   ]
  },
  {
   "cell_type": "code",
   "execution_count": 3,
   "metadata": {},
   "outputs": [],
   "source": [
    "import datetime\n",
    "\n",
    "today = datetime.datetime.now()\n"
   ]
  },
  {
   "cell_type": "code",
   "execution_count": 4,
   "metadata": {},
   "outputs": [
    {
     "ename": "NameError",
     "evalue": "name 'radius1' is not defined",
     "output_type": "error",
     "traceback": [
      "\u001b[0;31m---------------------------------------------------------------------------\u001b[0m",
      "\u001b[0;31mNameError\u001b[0m                                 Traceback (most recent call last)",
      "\u001b[0;32m<ipython-input-4-97c260949086>\u001b[0m in \u001b[0;36m<module>\u001b[0;34m\u001b[0m\n\u001b[1;32m      8\u001b[0m \u001b[0;34m\u001b[0m\u001b[0m\n\u001b[1;32m      9\u001b[0m \u001b[0;34m\u001b[0m\u001b[0m\n\u001b[0;32m---> 10\u001b[0;31m \u001b[0mCircle1\u001b[0m \u001b[0;34m=\u001b[0m \u001b[0;34m(\u001b[0m\u001b[0mmidWidth\u001b[0m\u001b[0;34m-\u001b[0m\u001b[0mradius1\u001b[0m\u001b[0;34m,\u001b[0m \u001b[0mmidHeight\u001b[0m\u001b[0;34m-\u001b[0m\u001b[0mradius1\u001b[0m\u001b[0;34m,\u001b[0m \u001b[0mmidWidth\u001b[0m\u001b[0;34m+\u001b[0m\u001b[0mradius1\u001b[0m\u001b[0;34m,\u001b[0m \u001b[0mmidHeight\u001b[0m\u001b[0;34m+\u001b[0m\u001b[0mradius1\u001b[0m\u001b[0;34m)\u001b[0m\u001b[0;34m\u001b[0m\u001b[0;34m\u001b[0m\u001b[0m\n\u001b[0m\u001b[1;32m     11\u001b[0m \u001b[0mdraw\u001b[0m\u001b[0;34m.\u001b[0m\u001b[0marc\u001b[0m\u001b[0;34m(\u001b[0m \u001b[0mCircle1\u001b[0m \u001b[0;34m,\u001b[0m \u001b[0mstartAngle\u001b[0m\u001b[0;34m,\u001b[0m \u001b[0mendAngle\u001b[0m\u001b[0;34m,\u001b[0m \u001b[0mfill\u001b[0m \u001b[0;34m=\u001b[0m \u001b[0minky_display\u001b[0m\u001b[0;34m.\u001b[0m\u001b[0mBLACK\u001b[0m\u001b[0;34m)\u001b[0m\u001b[0;34m\u001b[0m\u001b[0;34m\u001b[0m\u001b[0m\n\u001b[1;32m     12\u001b[0m \u001b[0mdraw\u001b[0m\u001b[0;34m.\u001b[0m\u001b[0mpoint\u001b[0m\u001b[0;34m(\u001b[0m\u001b[0;34m[\u001b[0m\u001b[0mmidWidth\u001b[0m\u001b[0;34m,\u001b[0m\u001b[0mmidHeight\u001b[0m\u001b[0;34m]\u001b[0m\u001b[0;34m)\u001b[0m\u001b[0;34m\u001b[0m\u001b[0;34m\u001b[0m\u001b[0m\n",
      "\u001b[0;31mNameError\u001b[0m: name 'radius1' is not defined"
     ]
    }
   ],
   "source": [
    "# blank white screen to start\n",
    "draw.rectangle([(0,0),(inky_display.WIDTH, inky_display.HEIGHT)],fill=inky_display.WHITE)\n",
    "\n",
    "# ================= draw progress bar/circle =======================\n",
    "midWidth = inky_display.WIDTH / 2 + 10 # teeny bit to the right of centre\n",
    "midHeight = inky_display.HEIGHT / 2 + 10 # and teeny bit lower looks better\n",
    "\n",
    "\n",
    "\n",
    "Circle1 = (midWidth-radius1, midHeight-radius1, midWidth+radius1, midHeight+radius1)\n",
    "draw.arc( Circle1 , startAngle, endAngle, fill = inky_display.BLACK)\n",
    "draw.point([midWidth,midHeight])\n",
    "\n",
    "\n",
    "draw.pieslice( Circle2 ,nowAngle,nowAngle + 30, fill = inky_display.BLACK)\n",
    "#draw short arc \n",
    "\n",
    "draw.ellipse( Circle1, fill = inky_display.WHITE, outline =  inky_display.WHITE)\n",
    "\n",
    "draw.arc( Circle2 , startAngle, endAngle, fill = inky_display.BLACK)\n",
    "draw.arc( Circle1 , startAngle, endAngle, fill = inky_display.BLACK)"
   ]
  },
  {
   "cell_type": "code",
   "execution_count": 5,
   "metadata": {},
   "outputs": [
    {
     "data": {
      "image/png": "[encoded data removed]",
      "text/plain": [
       "<PIL.Image.Image image mode=RGB size=240x120 at 0x7F9C8CF1B250>"
      ]
     },
     "metadata": {},
     "output_type": "display_data"
    }
   ],
   "source": [
    "# ================= print up fields =======================\n",
    "ImageFont.truetype(\"/Library/Fonts/Arial Unicode.ttf\",14)\n",
    "\n",
    "fontLabel = ImageFont.truetype(\"/Library/Fonts/Arial Unicode.ttf\",16)\n",
    "fontNumber = ImageFont.truetype(\"/Library/Fonts/Arial Unicode.ttf\",18)\n",
    "fontBig = ImageFont.truetype(\"/Library/Fonts/Arial Unicode.ttf\",25)\n",
    "\n",
    "msg1 = \"msg1:\"\n",
    "msg2 = \"msg2:\"\n",
    "#    msg2 = datetime.strftime(daylight.sunrise,'%H:%M')\n",
    "\n",
    "msg3 = \"msg3:\"\n",
    "msg4 = \"msg4:\"\n",
    "\n",
    "msg5 = \"msg5:\"\n",
    "msg6 = \"msg6:\" \n",
    "\n",
    "msg7 = \"msg7:\"\n",
    "msg8 = \"msg8:\" \n",
    "msg9 = 'Day: ' +  today.strftime('%j') #\"msg9:\"\n",
    "msgA = \"msgA:\"\n",
    "msgB = \"msgB:\"\n",
    "\n",
    "# get text box size for each of our fields\n",
    "w1, h1 = fontLabel.getsize(msg1)\n",
    "w2, h2 = fontNumber.getsize(msg2)\n",
    "w3, h3 = fontLabel.getsize(msg3)\n",
    "w4, h4 = fontNumber.getsize(msg4)\n",
    "w5, h5 = fontLabel.getsize(msg5)\n",
    "w6, h6 = fontNumber.getsize(msg6)\n",
    "w7, h7 = fontNumber.getsize(msg7)\n",
    "w8, h8 = fontNumber.getsize(msg8)\n",
    "w9, h9 = fontBig.getsize(msg9)\n",
    "wA, hA = fontNumber.getsize(msgA)\n",
    "wB, hB = fontNumber.getsize(msgB)\n",
    "\n",
    "#calculate screen locations for our msgX fields\n",
    "loc1 = (0,0)                             # top left\n",
    "loc2 = (0,h1+1)                          # under top left\n",
    "loc3 = (0,inky_display.HEIGHT - h3 - h4) # above botton left\n",
    "loc4 = (0,inky_display.HEIGHT - h3)      # botton left\n",
    "\n",
    "loc5 = (inky_display.WIDTH - w5, 0)      # top right\n",
    "loc6 = (inky_display.WIDTH - w6, h5)     # under top right / h5\n",
    "loc7 = (midWidth - w7/2, midHeight )     # centered hanging from mid point\n",
    "loc8 = (midWidth - w8/2, midHeight + h7 )            # centered below msg7\n",
    "\n",
    "loc9 = (midWidth - w9/2, midHeight - h9)  # centred above midpoint \n",
    "\n",
    "locA= (inky_display.WIDTH - wA, inky_display.HEIGHT - hA ) # bottom right\n",
    "locB= (inky_display.WIDTH - wB, inky_display.HEIGHT - hB - hA) # stacked above bottom right\n",
    "\n",
    "draw.text(loc1, msg1, inky_display.BLACK, fontLabel)\n",
    "draw.text(loc2, msg2, inky_display.BLACK, fontNumber)\n",
    "draw.text(loc3, msg3, inky_display.BLACK, fontLabel)\n",
    "draw.text(loc4, msg4, inky_display.BLACK, fontNumber)\n",
    "draw.text(loc5, msg5, inky_display.BLACK, fontLabel)\n",
    "draw.text(loc6, msg6, inky_display.BLACK, fontNumber)\n",
    "draw.text(loc7, msg7, inky_display.BLACK, fontNumber)\n",
    "draw.text(loc8, msg8, inky_display.BLACK, fontNumber)\n",
    "draw.text(loc9, msg9, inky_display.BLACK, fontBig)\n",
    "draw.text(locA, msgA, inky_display.BLACK, fontNumber)\n",
    "draw.text(locB, msgB, inky_display.BLACK, fontNumber)\n",
    "\n",
    "#print the graph inline - instead of to inky phat\n",
    "%matplotlib inline\n",
    "\n",
    "display(img)"
   ]
  },
  {
   "cell_type": "code",
   "execution_count": null,
   "metadata": {},
   "outputs": [],
   "source": []
  },
  {
   "cell_type": "code",
   "execution_count": null,
   "metadata": {},
   "outputs": [],
   "source": []
  }
 ],
 "metadata": {
  "kernelspec": {
   "display_name": "Python 3",
   "language": "python",
   "name": "python3"
  },
  "language_info": {
   "codemirror_mode": {
    "name": "ipython",
    "version": 3
   },
   "file_extension": ".py",
   "mimetype": "text/x-python",
   "name": "python",
   "nbconvert_exporter": "python",
   "pygments_lexer": "ipython3",
   "version": "3.7.4"
  }
 },
 "nbformat": 4,
 "nbformat_minor": 2
}
