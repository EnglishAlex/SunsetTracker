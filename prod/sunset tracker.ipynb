{
 "cells": [
  {
   "cell_type": "code",
   "execution_count": 1,
   "metadata": {},
   "outputs": [],
   "source": [
    "from inky import InkyPHAT\n",
    "\n",
    "inky_display = InkyPHAT(\"black\")\n",
    "# for faster B&W set black, the tri colour refresh cycle takes longer\n",
    "inky_display.set_border(inky_display.WHITE)"
   ]
  },
  {
   "cell_type": "code",
   "execution_count": 8,
   "metadata": {},
   "outputs": [
    {
     "data": {
      "text/plain": [
       "2"
      ]
     },
     "execution_count": 8,
     "metadata": {},
     "output_type": "execute_result"
    }
   ],
   "source": [
    "inky_display.RED\n"
   ]
  },
  {
   "cell_type": "code",
   "execution_count": 2,
   "metadata": {},
   "outputs": [],
   "source": [
    "from PIL import Image, ImageFont, ImageDraw\n",
    "\n",
    "\n",
    "img = Image.new(\"P\", (inky_display.WIDTH, inky_display.HEIGHT))\n",
    "draw = ImageDraw.Draw(img)\n",
    "\n",
    "# ctrl shift minus to split cells in edit mode"
   ]
  },
  {
   "cell_type": "code",
   "execution_count": 3,
   "metadata": {},
   "outputs": [],
   "source": [
    "# blank white screen to start\n",
    "draw.rectangle([(0,0),(inky_display.WIDTH, inky_display.HEIGHT)],fill=inky_display.WHITE)\n",
    "\n",
    "\n",
    "midWidth = inky_display.WIDTH / 2 + 10 # teeny bit to the right \n",
    "midHeight = inky_display.HEIGHT / 2 + 10 # and teeny bit lower looks better\n",
    "\n",
    "radius1 = 43\n",
    "radius2 = 53\n",
    "\n",
    "Circle1 = (midWidth-radius1, midHeight-radius1, midWidth+radius1, midHeight+radius1)\n",
    "Circle2 = (midWidth-radius2, midHeight-radius2, midWidth+radius2, midHeight+radius2)\n",
    "\n",
    "draw.arc( Circle1 , 135, 45, fill = inky_display.BLACK)\n",
    "draw.arc( Circle2 , 135, 45, fill = inky_display.BLACK)\n",
    "\n",
    "draw.point([midWidth,midHeight])\n",
    "\n",
    "draw.pieslice( Circle2 ,135, 290, fill = inky_display.BLACK)\n",
    "#draw pie segment to show progress thru day\n",
    "\n",
    "draw.ellipse( Circle1, fill = inky_display.WHITE, outline =  inky_display.WHITE)\n",
    "\n"
   ]
  },
  {
   "cell_type": "code",
   "execution_count": 4,
   "metadata": {},
   "outputs": [],
   "source": [
    "from font_hanken_grotesk import HankenGroteskLight\n",
    "\n",
    "fontLabel = ImageFont.truetype(HankenGroteskLight, 16)\n",
    "fontNumber = ImageFont.truetype(HankenGroteskLight, 18)\n",
    "fontBig = ImageFont.truetype(HankenGroteskLight, 20)\n",
    "\n",
    "\n",
    "msg1 = \"Sun Rise:\"\n",
    "msg2 = \"08:00\"\n",
    "\n",
    "msg3 = \"Today:\"\n",
    "msg4 = \"16h38m\"\n",
    "\n",
    "msg5 = \"Sun Set:\"\n",
    "msg6 = \"17:15\"\n",
    "\n",
    "msg7 = \"124°\"  #shift option 8 for ° degree symbol \n",
    "msg8 = \"45°\"\n",
    "msg9 = \"16h34m\" #time left to sunset\n",
    "msgA = \"07:25\"\n",
    "\n",
    "# get text box size for each of our fields\n",
    "w1, h1 = fontLabel.getsize(msg1)\n",
    "w2, h2 = fontNumber.getsize(msg2)\n",
    "w3, h3 = fontLabel.getsize(msg3)\n",
    "w4, h4 = fontNumber.getsize(msg4)\n",
    "w5, h5 = fontLabel.getsize(msg5)\n",
    "w6, h6 = fontNumber.getsize(msg6)\n",
    "w7, h7 = fontNumber.getsize(msg7)\n",
    "w8, h8 = fontNumber.getsize(msg8)\n",
    "w9, h9 = fontBig.getsize(msg9)\n",
    "wA, hA = fontNumber.getsize(msgA)\n",
    "\n",
    "#calculate location for msg1-msg3\n",
    "loc1 = (0,0)                             # top left\n",
    "loc2 = (0,h1+1)                          # under top left\n",
    "loc3 = (0,inky_display.HEIGHT - h3 - h4) # above botton left\n",
    "loc4 = (0,inky_display.HEIGHT - h3)      # botton left\n",
    "\n",
    "loc5 = (inky_display.WIDTH - w5, 0)      # top right\n",
    "loc6 = (inky_display.WIDTH - w6, h5)     # under top right / h5\n",
    "loc7 = (midWidth - w7/2, midHeight )     # centered hanging from mid point\n",
    "loc8 = (midWidth - w8/2, midHeight + h7 )            # centered below msg7\n",
    "\n",
    "loc9 = (midWidth - w9/2, midHeight - h9)  # centred above midpoint \n",
    " \n",
    "locA= (inky_display.WIDTH - wA, inky_display.HEIGHT - hA ) # bottom right\n",
    "\n",
    "draw.text(loc1, msg1, inky_display.BLACK, fontLabel)\n",
    "draw.text(loc2, msg2, inky_display.BLACK, fontNumber)\n",
    "draw.text(loc3, msg3, inky_display.BLACK, fontLabel)\n",
    "draw.text(loc4, msg4, inky_display.BLACK, fontNumber)\n",
    "draw.text(loc5, msg5, inky_display.BLACK, fontLabel)\n",
    "draw.text(loc6, msg6, inky_display.BLACK, fontNumber)\n",
    "draw.text(loc7, msg7, inky_display.BLACK, fontNumber)\n",
    "draw.text(loc8, msg8, inky_display.BLACK, fontNumber)\n",
    "draw.text(loc9, msg9, inky_display.BLACK, fontBig)\n",
    "draw.text(locA, msgA, inky_display.BLACK, fontNumber)\n"
   ]
  },
  {
   "cell_type": "code",
   "execution_count": 5,
   "metadata": {},
   "outputs": [],
   "source": [
    "inky_display.set_image(img)\n",
    "inky_display.show()"
   ]
  },
  {
   "cell_type": "markdown",
   "metadata": {},
   "source": [
    "## rectangles, lines, points and ellipse"
   ]
  },
  {
   "cell_type": "code",
   "execution_count": null,
   "metadata": {},
   "outputs": [],
   "source": [
    "#draw.rectangle([(0, 0), (212, 104)], fill=inky_display.WHITE, outline=None)\n",
    "draw.rectangle([(10, 10), (50, 50)],outline=inky_display.BLACK)\n",
    "\n",
    "#draw.rectangle([(60, 10), (110, 64)],fill=inky_display.RED, outline=inky_display.BLACK)\n",
    "draw.rectangle([(60, 10), (110, 64)], outline=inky_display.BLACK)\n",
    "\n",
    "\n",
    "draw.ellipse([(80,40),(120,64)],outline=inky_display.BLACK,)\n",
    "\n",
    "draw.line([(40, 40), (200, 40)],fill=inky_display.BLACK)\n",
    "draw.point([(20,20),(30,20),(40,20),(50,20)],fill=inky_display.BLACK)"
   ]
  },
  {
   "cell_type": "code",
   "execution_count": null,
   "metadata": {},
   "outputs": [],
   "source": [
    "\n",
    "line arc from midday to 3pm\n",
    "\n",
    "draw.ellipse( [(midWidth-arcSize,midHeight-arcSize),(midWidth+arcSize,midHeight+arcSize)]\n",
    "            , fill = inky_display.BLACK, outline =  inky_display.WHITE)\n",
    "\n",
    "draw.ellipse( [(midWidth-circleSize,midHeight-circleSize),(midWidth+circleSize,midHeight+circleSize)]\n",
    "            , fill = inky_display.WHITE, outline =  inky_display.WHITE)\n",
    "\n",
    "\n",
    "draw.chord( [(midWidth-arcSize,midHeight-arcSize),(midWidth+arcSize,midHeight+arcSize)]\n",
    "           ,90,180, fill = inky_display.BLACK)\n",
    "# segment chord of a a circle 6pm-9pm\n",
    "\n",
    "\n",
    "\n",
    "\n",
    "draw inner and out circles\n",
    "\n",
    "draw.ellipse( [(midWidth-arcSize,midHeight-arcSize),(midWidth+arcSize,midHeight+arcSize)]\n",
    "            , fill = inky_display.WHITE, outline =  inky_display.BLACK)\n",
    "\n",
    "draw.ellipse( [(midWidth-circleSize,midHeight-circleSize),(midWidth+circleSize,midHeight+circleSize)]\n",
    "            , fill = inky_display.WHITE, outline =  inky_display.BLACK)\n",
    "\n",
    "\n",
    "draw.ellipse( [(midWidth-arcSize,midHeight-arcSize),(midWidth+arcSize,midHeight+arcSize)]\n",
    "           ,fill = inky_display.BLACK, outline =  inky_display.BLACK)\n",
    "\n",
    "draw.arc( [(midWidth-arcSize,midHeight-arcSize),(midWidth+arcSize,midHeight+arcSize)]\n",
    "           ,90,180, fill = inky_display.WHITE)\n",
    "\n",
    "draw.ellipse( [(midWidth-circleSize,midHeight-circleSize),(midWidth+circleSize,midHeight+circleSize)]\n",
    "             , fill = inky_display.WHITE, outline =  inky_display.BLACK)\n",
    "\n"
   ]
  },
  {
   "cell_type": "code",
   "execution_count": null,
   "metadata": {},
   "outputs": [],
   "source": []
  }
 ],
 "metadata": {
  "kernelspec": {
   "display_name": "Python 3",
   "language": "python",
   "name": "python3"
  },
  "language_info": {
   "codemirror_mode": {
    "name": "ipython",
    "version": 3
   },
   "file_extension": ".py",
   "mimetype": "text/x-python",
   "name": "python",
   "nbconvert_exporter": "python",
   "pygments_lexer": "ipython3",
   "version": "3.5.3"
  }
 },
 "nbformat": 4,
 "nbformat_minor": 2
}
