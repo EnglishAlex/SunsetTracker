{
 "cells": [
  {
   "cell_type": "markdown",
   "metadata": {},
   "source": [
    "# demo example code to draw to the Inky Phat\n",
    "\n",
    "## references\n",
    "* https://github.com/pimoroni/inky\n",
    "* PIL image library https://pillow.readthedocs.io/en/stable/reference/ImageDraw.html#PIL.ImageDraw.PIL.ImageDraw.ImageDraw.ellipse\n"
   ]
  },
  {
   "cell_type": "code",
   "execution_count": 7,
   "metadata": {},
   "outputs": [],
   "source": [
    "from PIL import Image, ImageDraw\n",
    "\n",
    "from inky import InkyPHAT"
   ]
  },
  {
   "cell_type": "code",
   "execution_count": 8,
   "metadata": {},
   "outputs": [],
   "source": [
    "inky_display = InkyPHAT('black')\n",
    "inky_display.set_border(inky_display.BLACK)"
   ]
  },
  {
   "cell_type": "code",
   "execution_count": 4,
   "metadata": {},
   "outputs": [],
   "source": [
    "img = Image.open(\"InkypHAT-212x104-bw.png\")\n",
    "draw = ImageDraw.Draw(img)"
   ]
  },
  {
   "cell_type": "code",
   "execution_count": 5,
   "metadata": {},
   "outputs": [],
   "source": [
    "draw.rectangle([(0, 0), (212, 104)], fill=inky_display.WHITE, outline=None)"
   ]
  },
  {
   "cell_type": "code",
   "execution_count": null,
   "metadata": {},
   "outputs": [],
   "source": [
    "inky_display.set_image(img)\n",
    "inky_display.show()"
   ]
  },
  {
   "cell_type": "code",
   "execution_count": 6,
   "metadata": {},
   "outputs": [],
   "source": [
    "draw.rectangle([(0, 0), (212, 104)], fill=inky_display.RED, outline=None)\n",
    "inky_display.set_image(img)\n",
    "inky_display.show()"
   ]
  },
  {
   "cell_type": "code",
   "execution_count": null,
   "metadata": {},
   "outputs": [],
   "source": []
  },
  {
   "cell_type": "code",
   "execution_count": null,
   "metadata": {},
   "outputs": [],
   "source": [
    "# Paint out a black rectangle onto which we'll draw our canvas\n",
    "draw.rectangle((10, 10, 150, 50), fill=inky_display.BLACK, outline=inky_display.WHITE)\n",
    "\n",
    "\n",
    "#PIL.ImageDraw.ImageDraw.line(xy, fill=None, width=0, joint=None)\n",
    "draw.line((50,50,50,100),fill=inky_display.RED, width=5 )"
   ]
  },
  {
   "cell_type": "code",
   "execution_count": null,
   "metadata": {},
   "outputs": [],
   "source": [
    "draw.rectangle([(0, 0), (212, 104)], fill=inky_display.RED, outline=None)\n",
    "inky_display.set_image(img)\n",
    "inky_display.show()"
   ]
  }
 ],
 "metadata": {
  "kernelspec": {
   "display_name": "Python 3",
   "language": "python",
   "name": "python3"
  },
  "language_info": {
   "codemirror_mode": {
    "name": "ipython",
    "version": 3
   },
   "file_extension": ".py",
   "mimetype": "text/x-python",
   "name": "python",
   "nbconvert_exporter": "python",
   "pygments_lexer": "ipython3",
   "version": "3.5.3"
  }
 },
 "nbformat": 4,
 "nbformat_minor": 2
}
